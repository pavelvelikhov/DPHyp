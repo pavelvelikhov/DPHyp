{
 "cells": [
  {
   "cell_type": "code",
   "execution_count": 22,
   "id": "9be7caa4",
   "metadata": {},
   "outputs": [],
   "source": [
    "from itertools import chain, combinations"
   ]
  },
  {
   "cell_type": "code",
   "execution_count": 9,
   "id": "4d12a8ab",
   "metadata": {},
   "outputs": [],
   "source": [
    "class Graph:\n",
    "    def __init__(self,edges):\n",
    "        self.edges = edges\n",
    "        self.nodes = sorted({ f for f,t in edges }.union({ t for f,t in edges }))"
   ]
  },
  {
   "cell_type": "code",
   "execution_count": 131,
   "id": "852c32e9",
   "metadata": {},
   "outputs": [],
   "source": [
    "# Graph from the DPccp paper\n",
    "\n",
    "g1 = Graph({(\"R0\",\"R1\"),\n",
    "            (\"R0\",\"R2\"),\n",
    "            (\"R0\",\"R3\"),\n",
    "            (\"R1\",\"R4\"),\n",
    "            (\"R2\",\"R3\"),\n",
    "            (\"R2\",\"R4\"),\n",
    "            (\"R3\",\"R4\")})"
   ]
  },
  {
   "cell_type": "code",
   "execution_count": 11,
   "id": "55249cc3",
   "metadata": {},
   "outputs": [],
   "source": [
    "dptable = {}"
   ]
  },
  {
   "cell_type": "code",
   "execution_count": 50,
   "id": "0229e289",
   "metadata": {},
   "outputs": [],
   "source": [
    "def makeBi(G,n):\n",
    "    return {x for x in G.nodes if x <= n}"
   ]
  },
  {
   "cell_type": "code",
   "execution_count": 51,
   "id": "73a221f0",
   "metadata": {},
   "outputs": [],
   "source": [
    "def Neighborhood(G,S):\n",
    "    res = []\n",
    "    for s in S:\n",
    "        res += [ x for x,y in G.edges if y==s]\n",
    "        res += [ y for x,y in G.edges if x==s]\n",
    "    return set(res)"
   ]
  },
  {
   "cell_type": "code",
   "execution_count": 52,
   "id": "c2ef2e1a",
   "metadata": {},
   "outputs": [],
   "source": [
    "# Enumerate subsets with subsets first\n",
    "def enumerateSubsets(S):\n",
    "    sS = sorted(S)\n",
    "    \"powerset([1,2,3]) → (1,) (2,) (3,) (1,2) (1,3) (2,3) (1,2,3)\"\n",
    "    return chain.from_iterable(combinations(sS, r) for r in range(1,len(sS)+1))"
   ]
  },
  {
   "cell_type": "code",
   "execution_count": 53,
   "id": "60b166e2",
   "metadata": {},
   "outputs": [],
   "source": [
    "def enumerateCsg(G):\n",
    "    for n in reversed(G.nodes):\n",
    "        yield {n}\n",
    "        for x in enumerateCsgRec(G,{n},makeBi(G,n)):\n",
    "            yield x"
   ]
  },
  {
   "cell_type": "code",
   "execution_count": 146,
   "id": "53eb82e0",
   "metadata": {},
   "outputs": [],
   "source": [
    "def enumerateCsgRec(G,S,X):\n",
    "    # print(\"calling enumerateCsgRec with S=\",S, \", X=\", X)\n",
    "    N = Neighborhood(G,S).difference(X)\n",
    "    for S1 in enumerateSubsets(N):\n",
    "        yield S.union(set(S1))\n",
    "    for S1 in enumerateSubsets(N):\n",
    "        for x in enumerateCsgRec(G,S.union(set(S1)),X.union(N)):\n",
    "            yield x"
   ]
  },
  {
   "cell_type": "code",
   "execution_count": 106,
   "id": "b63d4aa8",
   "metadata": {},
   "outputs": [],
   "source": [
    "def makeB(G,N,i):\n",
    "    return {x for x in N if x <= i }"
   ]
  },
  {
   "cell_type": "code",
   "execution_count": 145,
   "id": "e370051b",
   "metadata": {},
   "outputs": [],
   "source": [
    "def enumerateCmp(G,S):\n",
    "    X = makeBi(G,min(S)).union(S)\n",
    "    N = Neighborhood(G,S).difference(X)\n",
    "    for n in reversed(sorted(N)):\n",
    "        yield {n}\n",
    "        for x in enumerateCsgRec(G,{n},X.union(makeB(G,N,n))):\n",
    "            yield x"
   ]
  },
  {
   "cell_type": "code",
   "execution_count": 164,
   "id": "760f6a5d",
   "metadata": {},
   "outputs": [],
   "source": [
    "def opt(G):\n",
    "    # Create DP table:\n",
    "    dpTable = {}\n",
    "    counter = 0\n",
    "    \n",
    "    # Create duplicate pair table for correctness testing\n",
    "    dupTable = {}\n",
    "    \n",
    "    # iterate over enumeration of connected subgraphs:\n",
    "    for x in enumerateCsg(G):\n",
    "        # insert the subgraph into dptable if its a singleton\n",
    "        fx = frozenset(x)\n",
    "        if len(x)==1:\n",
    "            dpTable[fx] = True\n",
    "            print (\"Added CSG: \",x)\n",
    "            counter += 1\n",
    "        \n",
    "        # Now compute all the complements of the subset\n",
    "        for y in enumerateCmp(G,x):\n",
    "            # check that the compliment is already in the dpTable\n",
    "            fy = frozenset(y)\n",
    "            if fy not in dpTable:\n",
    "                print(\"ERROR (cmp): key \", sorted(y), \" is not in the table, but should be\")\n",
    "\n",
    "            print (\"Added PAIR: \", sorted(x), \" and \", sorted(y))\n",
    "            if frozenset({fx,fy}) in dupTable:\n",
    "                print(\"ERROR: pair (\", sorted(x), \",\", sorted(y), \") is in the table, but should not be\")\n",
    "                \n",
    "            dupTable[ frozenset({fx,fy}) ] = True\n",
    "\n",
    "\n",
    "            # add the combintation of csg and cmp to the dpTable\n",
    "            combo = x.union(y)\n",
    "            comboKey = frozenset(combo)\n",
    "            dpTable[comboKey] = True\n",
    "            counter += 1\n",
    "            \n",
    "    print (\"Total pairs considered:\",counter)"
   ]
  },
  {
   "cell_type": "code",
   "execution_count": 162,
   "id": "77ffc9b4",
   "metadata": {},
   "outputs": [
    {
     "name": "stdout",
     "output_type": "stream",
     "text": [
      "['R4']\n",
      "['R3']\n",
      "['R3', 'R4']\n",
      "['R2']\n",
      "['R2', 'R3']\n",
      "['R2', 'R4']\n",
      "['R2', 'R3', 'R4']\n",
      "['R1']\n",
      "['R1', 'R4']\n",
      "['R1', 'R2', 'R4']\n",
      "['R1', 'R3', 'R4']\n",
      "['R1', 'R2', 'R3', 'R4']\n",
      "['R0']\n",
      "['R0', 'R1']\n",
      "['R0', 'R2']\n",
      "['R0', 'R3']\n",
      "['R0', 'R1', 'R2']\n",
      "['R0', 'R1', 'R3']\n",
      "['R0', 'R2', 'R3']\n",
      "['R0', 'R1', 'R2', 'R3']\n",
      "['R0', 'R1', 'R4']\n",
      "['R0', 'R2', 'R4']\n",
      "['R0', 'R3', 'R4']\n",
      "['R0', 'R1', 'R2', 'R4']\n",
      "['R0', 'R1', 'R3', 'R4']\n",
      "['R0', 'R2', 'R3', 'R4']\n",
      "['R0', 'R1', 'R2', 'R3', 'R4']\n"
     ]
    }
   ],
   "source": [
    "print(\"\\n\".join([repr(sorted(x)) for x in list(enumerateCsg(g1))]))"
   ]
  },
  {
   "cell_type": "code",
   "execution_count": 159,
   "id": "31716ce6",
   "metadata": {},
   "outputs": [
    {
     "name": "stdout",
     "output_type": "stream",
     "text": [
      "[{'R4'}, {'R3'}, {'R4', 'R3'}]\n"
     ]
    }
   ],
   "source": [
    "print(list(enumerateCmp(g1,{'R2'})))"
   ]
  },
  {
   "cell_type": "code",
   "execution_count": 165,
   "id": "74087d07",
   "metadata": {},
   "outputs": [
    {
     "name": "stdout",
     "output_type": "stream",
     "text": [
      "Added CSG:  {'R4'}\n",
      "Added CSG:  {'R3'}\n",
      "Added PAIR:  ['R3']  and  ['R4']\n",
      "Added CSG:  {'R2'}\n",
      "Added PAIR:  ['R2']  and  ['R4']\n",
      "Added PAIR:  ['R2']  and  ['R3']\n",
      "Added PAIR:  ['R2']  and  ['R3', 'R4']\n",
      "Added PAIR:  ['R2', 'R3']  and  ['R4']\n",
      "Added PAIR:  ['R2', 'R4']  and  ['R3']\n",
      "Added CSG:  {'R1'}\n",
      "Added PAIR:  ['R1']  and  ['R4']\n",
      "Added PAIR:  ['R1']  and  ['R2', 'R4']\n",
      "Added PAIR:  ['R1']  and  ['R3', 'R4']\n",
      "Added PAIR:  ['R1']  and  ['R2', 'R3', 'R4']\n",
      "Added PAIR:  ['R1', 'R4']  and  ['R3']\n",
      "Added PAIR:  ['R1', 'R4']  and  ['R2']\n",
      "Added PAIR:  ['R1', 'R4']  and  ['R2', 'R3']\n",
      "Added PAIR:  ['R1', 'R2', 'R4']  and  ['R3']\n",
      "Added PAIR:  ['R1', 'R3', 'R4']  and  ['R2']\n",
      "Added CSG:  {'R0'}\n",
      "Added PAIR:  ['R0']  and  ['R3']\n",
      "Added PAIR:  ['R0']  and  ['R3', 'R4']\n",
      "Added PAIR:  ['R0']  and  ['R2']\n",
      "Added PAIR:  ['R0']  and  ['R2', 'R3']\n",
      "Added PAIR:  ['R0']  and  ['R2', 'R4']\n",
      "Added PAIR:  ['R0']  and  ['R2', 'R3', 'R4']\n",
      "Added PAIR:  ['R0']  and  ['R1']\n",
      "Added PAIR:  ['R0']  and  ['R1', 'R4']\n",
      "Added PAIR:  ['R0']  and  ['R1', 'R2', 'R4']\n",
      "Added PAIR:  ['R0']  and  ['R1', 'R3', 'R4']\n",
      "Added PAIR:  ['R0']  and  ['R1', 'R2', 'R3', 'R4']\n",
      "Added PAIR:  ['R0', 'R1']  and  ['R4']\n",
      "Added PAIR:  ['R0', 'R1']  and  ['R3']\n",
      "Added PAIR:  ['R0', 'R1']  and  ['R3', 'R4']\n",
      "Added PAIR:  ['R0', 'R1']  and  ['R2']\n",
      "Added PAIR:  ['R0', 'R1']  and  ['R2', 'R3']\n",
      "Added PAIR:  ['R0', 'R1']  and  ['R2', 'R4']\n",
      "Added PAIR:  ['R0', 'R1']  and  ['R2', 'R3', 'R4']\n",
      "Added PAIR:  ['R0', 'R2']  and  ['R4']\n",
      "Added PAIR:  ['R0', 'R2']  and  ['R3']\n",
      "Added PAIR:  ['R0', 'R2']  and  ['R3', 'R4']\n",
      "Added PAIR:  ['R0', 'R2']  and  ['R1']\n",
      "Added PAIR:  ['R0', 'R2']  and  ['R1', 'R4']\n",
      "Added PAIR:  ['R0', 'R2']  and  ['R1', 'R3', 'R4']\n",
      "Added PAIR:  ['R0', 'R3']  and  ['R4']\n",
      "Added PAIR:  ['R0', 'R3']  and  ['R2']\n",
      "Added PAIR:  ['R0', 'R3']  and  ['R2', 'R4']\n",
      "Added PAIR:  ['R0', 'R3']  and  ['R1']\n",
      "Added PAIR:  ['R0', 'R3']  and  ['R1', 'R4']\n",
      "Added PAIR:  ['R0', 'R3']  and  ['R1', 'R2', 'R4']\n",
      "Added PAIR:  ['R0', 'R1', 'R2']  and  ['R4']\n",
      "Added PAIR:  ['R0', 'R1', 'R2']  and  ['R3']\n",
      "Added PAIR:  ['R0', 'R1', 'R2']  and  ['R3', 'R4']\n",
      "Added PAIR:  ['R0', 'R1', 'R3']  and  ['R4']\n",
      "Added PAIR:  ['R0', 'R1', 'R3']  and  ['R2']\n",
      "Added PAIR:  ['R0', 'R1', 'R3']  and  ['R2', 'R4']\n",
      "Added PAIR:  ['R0', 'R2', 'R3']  and  ['R4']\n",
      "Added PAIR:  ['R0', 'R2', 'R3']  and  ['R1']\n",
      "Added PAIR:  ['R0', 'R2', 'R3']  and  ['R1', 'R4']\n",
      "Added PAIR:  ['R0', 'R1', 'R2', 'R3']  and  ['R4']\n",
      "Added PAIR:  ['R0', 'R1', 'R4']  and  ['R3']\n",
      "Added PAIR:  ['R0', 'R1', 'R4']  and  ['R2']\n",
      "Added PAIR:  ['R0', 'R1', 'R4']  and  ['R2', 'R3']\n",
      "Added PAIR:  ['R0', 'R2', 'R4']  and  ['R3']\n",
      "Added PAIR:  ['R0', 'R2', 'R4']  and  ['R1']\n",
      "Added PAIR:  ['R0', 'R3', 'R4']  and  ['R2']\n",
      "Added PAIR:  ['R0', 'R3', 'R4']  and  ['R1']\n",
      "Added PAIR:  ['R0', 'R1', 'R2', 'R4']  and  ['R3']\n",
      "Added PAIR:  ['R0', 'R1', 'R3', 'R4']  and  ['R2']\n",
      "Added PAIR:  ['R0', 'R2', 'R3', 'R4']  and  ['R1']\n",
      "Total pairs considered: 70\n"
     ]
    }
   ],
   "source": [
    "opt(g1)"
   ]
  },
  {
   "cell_type": "code",
   "execution_count": null,
   "id": "6e7093a5",
   "metadata": {},
   "outputs": [],
   "source": []
  }
 ],
 "metadata": {
  "kernelspec": {
   "display_name": "Python 3 (ipykernel)",
   "language": "python",
   "name": "python3"
  },
  "language_info": {
   "codemirror_mode": {
    "name": "ipython",
    "version": 3
   },
   "file_extension": ".py",
   "mimetype": "text/x-python",
   "name": "python",
   "nbconvert_exporter": "python",
   "pygments_lexer": "ipython3",
   "version": "3.11.4"
  }
 },
 "nbformat": 4,
 "nbformat_minor": 5
}
